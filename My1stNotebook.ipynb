{
 "cells": [
  {
   "cell_type": "markdown",
   "id": "30199db3",
   "metadata": {},
   "source": [
    "   ## My 1st Notebook\n",
    "   "
   ]
  },
  {
   "cell_type": "markdown",
   "id": "3bb6fad7",
   "metadata": {},
   "source": [
    "## Introduction\n",
    "In this notebook, I am practicing my skills"
   ]
  },
  {
   "cell_type": "markdown",
   "id": "ae623a47",
   "metadata": {},
   "source": [
    "## Data Science Languages\n",
    "\n",
    "1. Python\n",
    "2. R\n",
    "3. SQL\n",
    "4. Julia\n",
    "5. Scala\n"
   ]
  },
  {
   "cell_type": "markdown",
   "id": "d9ec321b",
   "metadata": {},
   "source": [
    "## Data Science Libraries\n",
    "\n",
    "1. Pandas (Python)\n",
    "2. NumPy (Python)\n",
    "3. TensorFlow (Python)\n",
    "4. ggplot2 (R)\n",
    "5. dplyr (R)\n",
    "            "
   ]
  },
  {
   "cell_type": "markdown",
   "id": "ca7ee618",
   "metadata": {},
   "source": [
    "## Data Science Tools\n",
    "\n",
    "| Tool           | Purpose                          | Language |\n",
    "|----------------|----------------------------------|----------|\n",
    "| Jupyter        | Interactive computing            | Python   |\n",
    "| RStudio        | Integrated development for R     | R        |\n",
    "| SQL Server     | Database management              | SQL      |\n",
    "| TensorFlow     | Deep learning framework          | Python   |\n",
    "| Tableau        | Data visualization               | -        |\n"
   ]
  },
  {
   "cell_type": "markdown",
   "id": "72e3248a",
   "metadata": {},
   "source": [
    "## Arithmetic Expressions\n",
    "\n",
    "In the following section, I will do arithmetic operations including: addition, subtraction, multiplication, and division."
   ]
  },
  {
   "cell_type": "code",
   "execution_count": 1,
   "id": "64ef37be",
   "metadata": {},
   "outputs": [
    {
     "name": "stdout",
     "output_type": "stream",
     "text": [
      "Multiplication: 15\n",
      "Addition: 8\n"
     ]
    }
   ],
   "source": [
    "# Exercise 8\n",
    "num1 = 5\n",
    "num2 = 3\n",
    "result_multiply = num1 * num2\n",
    "result_add = num1 + num2\n",
    "print(f\"Multiplication: {result_multiply}\")\n",
    "print(f\"Addition: {result_add}\")\n"
   ]
  },
  {
   "cell_type": "code",
   "execution_count": 2,
   "id": "61cc5310",
   "metadata": {},
   "outputs": [
    {
     "name": "stdout",
     "output_type": "stream",
     "text": [
      "120 minutes is equal to 2.0 hours.\n"
     ]
    }
   ],
   "source": [
    "# Exercise 9\n",
    "minutes = 120\n",
    "hours = minutes / 60\n",
    "print(f\"{minutes} minutes is equal to {hours} hours.\")"
   ]
  },
  {
   "cell_type": "markdown",
   "id": "8b4b43da",
   "metadata": {},
   "source": [
    "## Objectives\n",
    "\n",
    "1. Understand the foundational tools in data science.\n",
    "2. Practice basic arithmetic operations.\n",
    "3. Familiarize oneself with popular data science languages and libraries.\n"
   ]
  },
  {
   "cell_type": "markdown",
   "id": "fa0b57d1",
   "metadata": {},
   "source": [
    "## Author\n",
    "\n",
    "Francis O"
   ]
  },
  {
   "cell_type": "code",
   "execution_count": null,
   "id": "c9bb1776",
   "metadata": {},
   "outputs": [],
   "source": []
  }
 ],
 "metadata": {
  "kernelspec": {
   "display_name": "Python 3 (ipykernel)",
   "language": "python",
   "name": "python3"
  },
  "language_info": {
   "codemirror_mode": {
    "name": "ipython",
    "version": 3
   },
   "file_extension": ".py",
   "mimetype": "text/x-python",
   "name": "python",
   "nbconvert_exporter": "python",
   "pygments_lexer": "ipython3",
   "version": "3.11.4"
  }
 },
 "nbformat": 4,
 "nbformat_minor": 5
}
